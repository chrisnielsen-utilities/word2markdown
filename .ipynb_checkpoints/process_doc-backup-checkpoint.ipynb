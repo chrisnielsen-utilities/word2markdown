{
 "cells": [
  {
   "cell_type": "code",
   "execution_count": null,
   "id": "613bfa98",
   "metadata": {},
   "outputs": [],
   "source": []
  },
  {
   "cell_type": "code",
   "execution_count": 25,
   "id": "bcbd6411",
   "metadata": {},
   "outputs": [],
   "source": [
    "import shutil\n",
    "import os\n",
    "import docx2txt\n",
    "from docx import Document\n",
    "\n",
    "document_title = 'Math Questions'\n",
    "document_name = 'math-test2'\n",
    "image_path = 'assets/img/' + document_name\n",
    "document_type = 'paper_reviews'"
   ]
  },
  {
   "cell_type": "code",
   "execution_count": null,
   "id": "298a8f4f",
   "metadata": {},
   "outputs": [],
   "source": []
  },
  {
   "cell_type": "code",
   "execution_count": 26,
   "id": "3f24e077",
   "metadata": {},
   "outputs": [],
   "source": [
    "try:\n",
    "    shutil.rmtree(image_path)\n",
    "except:\n",
    "    pass\n",
    "\n",
    "os.makedirs(image_path)"
   ]
  },
  {
   "cell_type": "code",
   "execution_count": null,
   "id": "8636768c",
   "metadata": {},
   "outputs": [],
   "source": []
  },
  {
   "cell_type": "code",
   "execution_count": null,
   "id": "01a627d0",
   "metadata": {},
   "outputs": [],
   "source": []
  },
  {
   "cell_type": "code",
   "execution_count": null,
   "id": "fd625be6",
   "metadata": {},
   "outputs": [],
   "source": []
  },
  {
   "cell_type": "code",
   "execution_count": null,
   "id": "bab6bcc5",
   "metadata": {},
   "outputs": [],
   "source": []
  },
  {
   "cell_type": "code",
   "execution_count": 27,
   "id": "1833ced4",
   "metadata": {},
   "outputs": [],
   "source": [
    "text = docx2txt.process(document_name + '.docx', image_path) "
   ]
  },
  {
   "cell_type": "code",
   "execution_count": null,
   "id": "acb25343",
   "metadata": {},
   "outputs": [],
   "source": []
  },
  {
   "cell_type": "code",
   "execution_count": 28,
   "id": "e242c316",
   "metadata": {},
   "outputs": [
    {
     "name": "stdout",
     "output_type": "stream",
     "text": [
      "1\n"
     ]
    }
   ],
   "source": [
    "image_figure_dict = {}\n",
    "files = os.listdir(image_path)\n",
    "for file in files:\n",
    "    number = file.strip().split('.')[0][5:]\n",
    "    print(number)\n",
    "    image_figure_dict[int(number)] = file\n",
    "    "
   ]
  },
  {
   "cell_type": "code",
   "execution_count": null,
   "id": "59a916df",
   "metadata": {},
   "outputs": [],
   "source": []
  },
  {
   "cell_type": "code",
   "execution_count": 29,
   "id": "f22c5033",
   "metadata": {},
   "outputs": [],
   "source": [
    "character_replacement_dict = {'“': '\"',\n",
    "                              '”': '\"',}"
   ]
  },
  {
   "cell_type": "code",
   "execution_count": null,
   "id": "46a3dd3b",
   "metadata": {},
   "outputs": [],
   "source": []
  },
  {
   "cell_type": "code",
   "execution_count": null,
   "id": "b598ed46",
   "metadata": {},
   "outputs": [],
   "source": []
  },
  {
   "cell_type": "code",
   "execution_count": null,
   "id": "ff59306d",
   "metadata": {},
   "outputs": [],
   "source": []
  },
  {
   "cell_type": "code",
   "execution_count": null,
   "id": "cd59cb19",
   "metadata": {},
   "outputs": [],
   "source": []
  },
  {
   "cell_type": "code",
   "execution_count": null,
   "id": "981bf635",
   "metadata": {},
   "outputs": [],
   "source": []
  },
  {
   "cell_type": "code",
   "execution_count": null,
   "id": "5b823a5d",
   "metadata": {},
   "outputs": [],
   "source": []
  },
  {
   "cell_type": "code",
   "execution_count": null,
   "id": "70048fc1",
   "metadata": {},
   "outputs": [],
   "source": []
  },
  {
   "cell_type": "code",
   "execution_count": null,
   "id": "a50e5658",
   "metadata": {},
   "outputs": [],
   "source": []
  },
  {
   "cell_type": "code",
   "execution_count": 58,
   "id": "44c608d5",
   "metadata": {},
   "outputs": [
    {
     "name": "stdout",
     "output_type": "stream",
     "text": [
      "Pick an x value that we are evaluating\n"
     ]
    }
   ],
   "source": [
    "document = Document(document_name + '.docx')\n",
    "\n",
    "\n",
    "figure_number = 0\n",
    "list_number = 0\n",
    "with open(document_name + '.md', 'w') as file:\n",
    "    \n",
    "    file.write('---\\n')\n",
    "    file.write('layout: page\\n')\n",
    "    file.write('title: ' + document_title + '\\n')\n",
    "    file.write('permalink: /' + document_type + '/' + document_name +'/' + '\\n')\n",
    "#     file.write('render_with_liquid: false' + '\\n')\n",
    "    file.write('---\\n')\n",
    "    file.write('<br />\\n')\n",
    "\n",
    "    file.write('{% raw %}\\n')\n",
    "    \n",
    "    \n",
    "    for paragraph in document.paragraphs:\n",
    "        \n",
    "        pre_line = ''\n",
    "        post_line = ''\n",
    "        out_string = ''\n",
    "        if paragraph.style.name == 'Title':\n",
    "            pre_line = '<br />\\n'\n",
    "            post_line = '---\\n'\n",
    "            out_string += '# '\n",
    "        if paragraph.style.name == 'Heading 1':\n",
    "            pre_line = '<br />\\n'\n",
    "            post_line = '---\\n'\n",
    "            out_string += '## '\n",
    "        if paragraph.style.name == 'Heading 2':\n",
    "            pre_line = '<br />\\n'\n",
    "            post_line = '---\\n'\n",
    "            out_string += '#### '\n",
    "        if paragraph.style.name == 'Heading 3':\n",
    "            pre_line = '<br />\\n'\n",
    "            post_line = '---\\n'\n",
    "            out_string += '##### '\n",
    "            \n",
    "        \n",
    "        if 'List Number' in paragraph.style.name:\n",
    "            list_number += 1\n",
    "            out_string += str(list_number) +'. '\n",
    "        else:\n",
    "            list_number = 0\n",
    "            \n",
    "        if 'Bullet' in paragraph.style.name:\n",
    "            print('bullet')\n",
    "            out_string += '- '\n",
    "\n",
    "        text_str = paragraph.text\n",
    "        text_str = text_str.replace('\\\\[','$$')\n",
    "        text_str = text_str.replace('\\\\]','$$')\n",
    "        \n",
    "#         text_str = text_str.replace('\\\\[','{% raw %} $$')\n",
    "#         text_str = text_str.replace('\\\\]','$$ {% endraw %}')\n",
    "        \n",
    "        if 'Figure__' in text_str:\n",
    "            figure_number += 1\n",
    "            width = text_str.strip().split('__')[1]\n",
    "            alternate_text = text_str.strip().split('__')[2]\n",
    "            img_src= '/' + image_path + '/' + image_figure_dict[figure_number]\n",
    "            text_str = '<figure><center><img src=\"' + img_src + \\\n",
    "            '\" alt=\"' + alternate_text + \\\n",
    "            '\" width=\"' + width + '\"/> <figcaption> <em>' + alternate_text + ' </em> </figcaption> </center></figure>'\n",
    "        \n",
    "\n",
    "        \n",
    "        for char_to_replace in character_replacement_dict:\n",
    "            replacement_char = character_replacement_dict[char_to_replace]\n",
    "            text_str = text_str.replace(char_to_replace,replacement_char)\n",
    "    \n",
    "\n",
    "        if 'Pick an x value that we are evaluatin' in text_str:\n",
    "            print(text_str)\n",
    "    \n",
    "    \n",
    "        # add line spacing\n",
    "#         if text_str == '':\n",
    "#             pass\n",
    "# #             text_str = '<br />'\n",
    "#         else:\n",
    "#             text_str += '  '\n",
    "    \n",
    "    \n",
    "        file.write(pre_line)\n",
    "        file.write(out_string + text_str + '\\n')\n",
    "#         file.write('{: style=\"text-align: justify\"}\\n')\n",
    "        file.write(post_line)\n",
    "        \n",
    "        \n",
    "        \n",
    "    file.write('{% endraw %}\\n')\n",
    "        \n",
    "#         print('out', out_string)\n",
    "        #print(paragraph.style.name)\n",
    "        #print(repr(paragraph.text))\n",
    "#         print(text_str)\n",
    "#         print(paragraph.runs)\n"
   ]
  },
  {
   "cell_type": "code",
   "execution_count": null,
   "id": "d4784450",
   "metadata": {},
   "outputs": [],
   "source": []
  },
  {
   "cell_type": "code",
   "execution_count": null,
   "id": "a99dfb55",
   "metadata": {},
   "outputs": [],
   "source": []
  },
  {
   "cell_type": "code",
   "execution_count": 17,
   "id": "5c3def0d",
   "metadata": {},
   "outputs": [],
   "source": [
    "with open(document_name + '.md') as file:\n",
    "    for line in file:\n",
    "        \n",
    "        try:\n",
    "            decoded_str = line.encode().decode('utf-8')\n",
    "            if decoded_str != line:\n",
    "                print(line)\n",
    "        except:\n",
    "            print(line)\n",
    "        \n",
    "    \n",
    "    "
   ]
  },
  {
   "cell_type": "code",
   "execution_count": 16,
   "id": "499bfe9a",
   "metadata": {},
   "outputs": [
    {
     "data": {
      "text/plain": [
       "'math-test2'"
      ]
     },
     "execution_count": 16,
     "metadata": {},
     "output_type": "execute_result"
    }
   ],
   "source": [
    "document_name"
   ]
  },
  {
   "cell_type": "code",
   "execution_count": null,
   "id": "5b423dbf",
   "metadata": {},
   "outputs": [],
   "source": []
  },
  {
   "cell_type": "code",
   "execution_count": null,
   "id": "9157ef64",
   "metadata": {},
   "outputs": [],
   "source": []
  },
  {
   "cell_type": "code",
   "execution_count": 11,
   "id": "94e3f41f",
   "metadata": {},
   "outputs": [
    {
     "data": {
      "text/plain": [
       "{' ', 'O', 'Q', 'e', 'i', 'n', 'o', 'p', 's', 't', 'u'}"
      ]
     },
     "execution_count": 11,
     "metadata": {},
     "output_type": "execute_result"
    }
   ],
   "source": [
    "set(text_str)"
   ]
  },
  {
   "cell_type": "code",
   "execution_count": 20,
   "id": "bf3e3444",
   "metadata": {},
   "outputs": [
    {
     "ename": "AttributeError",
     "evalue": "'str' object has no attribute 'decode'",
     "output_type": "error",
     "traceback": [
      "\u001b[1;31m---------------------------------------------------------------------------\u001b[0m",
      "\u001b[1;31mAttributeError\u001b[0m                            Traceback (most recent call last)",
      "\u001b[1;32m~\\AppData\\Local\\Temp/ipykernel_16068/11576830.py\u001b[0m in \u001b[0;36m<module>\u001b[1;34m\u001b[0m\n\u001b[1;32m----> 1\u001b[1;33m \u001b[0mtext_str\u001b[0m\u001b[1;33m.\u001b[0m\u001b[0mdecode\u001b[0m\u001b[1;33m(\u001b[0m\u001b[1;33m)\u001b[0m\u001b[1;33m\u001b[0m\u001b[1;33m\u001b[0m\u001b[0m\n\u001b[0m",
      "\u001b[1;31mAttributeError\u001b[0m: 'str' object has no attribute 'decode'"
     ]
    }
   ],
   "source": [
    "text_str.decode()"
   ]
  },
  {
   "cell_type": "code",
   "execution_count": 23,
   "id": "42d23623",
   "metadata": {},
   "outputs": [
    {
     "data": {
      "text/plain": [
       "''"
      ]
     },
     "execution_count": 23,
     "metadata": {},
     "output_type": "execute_result"
    }
   ],
   "source": []
  },
  {
   "cell_type": "code",
   "execution_count": 22,
   "id": "29b72d02",
   "metadata": {},
   "outputs": [
    {
     "data": {
      "text/plain": [
       "''"
      ]
     },
     "execution_count": 22,
     "metadata": {},
     "output_type": "execute_result"
    }
   ],
   "source": [
    "text_str"
   ]
  },
  {
   "cell_type": "code",
   "execution_count": null,
   "id": "182d9bb6",
   "metadata": {},
   "outputs": [],
   "source": []
  },
  {
   "cell_type": "code",
   "execution_count": null,
   "id": "09b4e267",
   "metadata": {},
   "outputs": [],
   "source": []
  },
  {
   "cell_type": "code",
   "execution_count": 15,
   "id": "a01fe146",
   "metadata": {},
   "outputs": [
    {
     "name": "stdout",
     "output_type": "stream",
     "text": [
      "This is the title\n",
      "This is a test document\n",
      "I graduated with an MSc in Electrical Engineering in 2019 and a BSc in Applied Mathematics in 2016, both from the University of Calgary. My MSc thesis focused on the challenge of training machine learning models for \n",
      "medical image classification where there is a limited volume of data.\n",
      " From 2017 until joining the MIPLAB in 2021, I worked as an industrial data scientist at Getty Images, applying machine learning to improve image search. My research interests involve developing machine learning tools for ophthalmology. I aspire to become a physician-scientist specializing in ophthalmology and balancing direct surgical intervention with research and policy at the intersection of artificial intelligence and medicine.\n",
      "Test document \n",
      "\\[\n",
      "\\sqrt {{b^2} - 4ac} \\]\n",
      "\\[\n",
      "\\sqrt {{b^2} - 4ac} \\]\n",
      "\\[\\begin{align}\n",
      "  & \\sqrt{{{b}^{2}}-4ac} \\\\ \n",
      " & \\sqrt{{{b}^{2}}-4ac} \\\\ \n",
      " & \\sqrt{{{b}^{2}}-4ac} \\\\ \n",
      " & \\sqrt{{{b}^{2}}-4ac} \\\\ \n",
      " & \\sqrt{{{b}^{2}}-4\n",
      "ac}\\\n",
      "sqrt{{{b}^{2}}-4ac} \\\\ \n",
      " & \\sqrt{{{b}^{2}}-4ac} \\\\ \n",
      " & \\sqrt{{{b}^{2}}-4ac} \\\\ \n",
      " & \\sqrt{{{b}^{2}}-4ac} \\\\ \n",
      " & \\sqrt{{{b}^{2}}-4ac} \\\\ \n",
      " & \\sqrt{{{b}^{2}}-4ac} \\\\ \n",
      "\\\n",
      "end\n",
      "{align}\\] \n",
      "This is a picture\n",
      " \n",
      "\n",
      "Nice picture\n",
      "Number list 1\n",
      "Number list 2\n",
      "Number list 3\n",
      "Bullet 1\n",
      "Bullet 2\n",
      "Bullet 3\n",
      "This is the end\n",
      "Bullet 1\n",
      "Bullet 2\n",
      "Bullet 3\n",
      "Number list 1\n",
      "Number list 2\n",
      "Number list 3\n"
     ]
    }
   ],
   "source": [
    "for paragraph in document.paragraphs:\n",
    "    for run in paragraph.runs:\n",
    "#         if run.bold:\n",
    "            print (run.text)"
   ]
  },
  {
   "cell_type": "code",
   "execution_count": null,
   "id": "15ee61a1",
   "metadata": {},
   "outputs": [],
   "source": []
  },
  {
   "cell_type": "code",
   "execution_count": null,
   "id": "2af9686a",
   "metadata": {},
   "outputs": [],
   "source": [
    "List Bullet"
   ]
  },
  {
   "cell_type": "code",
   "execution_count": null,
   "id": "72fc306b",
   "metadata": {},
   "outputs": [],
   "source": []
  },
  {
   "cell_type": "code",
   "execution_count": null,
   "id": "2d3d97d1",
   "metadata": {},
   "outputs": [],
   "source": [
    "paragraph."
   ]
  },
  {
   "cell_type": "code",
   "execution_count": 19,
   "id": "a6c6ecb5",
   "metadata": {},
   "outputs": [
    {
     "data": {
      "text/plain": [
       "'Default Paragraph Font'"
      ]
     },
     "execution_count": 19,
     "metadata": {},
     "output_type": "execute_result"
    }
   ],
   "source": [
    "run.style.name"
   ]
  },
  {
   "cell_type": "code",
   "execution_count": 20,
   "id": "191b86be",
   "metadata": {},
   "outputs": [
    {
     "name": "stdout",
     "output_type": "stream",
     "text": [
      "Normal\n",
      "Heading 1\n",
      "Default Paragraph Font\n",
      "Normal Table\n",
      "No List\n",
      "Heading 1 Char\n",
      "List Paragraph\n",
      "MTConvertedEquation\n",
      "Title\n",
      "Title Char\n"
     ]
    }
   ],
   "source": [
    "for style in document.styles:\n",
    "    print(style.name)"
   ]
  },
  {
   "cell_type": "code",
   "execution_count": null,
   "id": "525abc8c",
   "metadata": {},
   "outputs": [],
   "source": []
  },
  {
   "cell_type": "code",
   "execution_count": null,
   "id": "611339a4",
   "metadata": {},
   "outputs": [],
   "source": []
  }
 ],
 "metadata": {
  "kernelspec": {
   "display_name": "Python 3 (ipykernel)",
   "language": "python",
   "name": "python3"
  },
  "language_info": {
   "codemirror_mode": {
    "name": "ipython",
    "version": 3
   },
   "file_extension": ".py",
   "mimetype": "text/x-python",
   "name": "python",
   "nbconvert_exporter": "python",
   "pygments_lexer": "ipython3",
   "version": "3.9.7"
  }
 },
 "nbformat": 4,
 "nbformat_minor": 5
}
